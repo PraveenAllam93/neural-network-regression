{
 "cells": [
  {
   "cell_type": "code",
   "execution_count": 1,
   "metadata": {},
   "outputs": [],
   "source": [
    "import numpy as np \n",
    "import pandas as pd\n",
    "\n",
    "import matplotlib.pyplot as plt \n",
    "import seaborn as sns\n",
    "\n",
    "from datetime import datetime\n",
    "\n",
    "from sklearn.model_selection import train_test_split\n",
    "\n",
    "\n",
    "import warnings \n",
    "warnings.filterwarnings('ignore')"
   ]
  },
  {
   "cell_type": "code",
   "execution_count": 2,
   "metadata": {},
   "outputs": [],
   "source": [
    "def delivery_partners(df, given_info, total_onshift_partners = False, total_busy_partners = False, total_outstanding_orders = False):\n",
    "    if (total_onshift_partners == True):\n",
    "        total_onshift_partners = given_info[(given_info.created_at_weekday == df.created_at_weekday) & (given_info.created_at_hour == df.created_at_hour)][\"total_onshift_partners\"]\n",
    "        return total_onshift_partners.iloc[0]\n",
    "    if (total_busy_partners == True):\n",
    "        total_busy_partners = given_info[(given_info.created_at_weekday == df.created_at_weekday) & (given_info.created_at_hour == df.created_at_hour)][\"total_busy_partners\"]\n",
    "        return total_busy_partners.iloc[0]\n",
    "    if (total_outstanding_orders == True):\n",
    "        total_outstanding_orders = given_info[(given_info.created_at_weekday == df.created_at_weekday) & (given_info.created_at_hour == df.created_at_hour)][\"total_outstanding_orders\"]\n",
    "        return total_outstanding_orders.iloc[0]\n",
    "    return \"atleast choose one\""
   ]
  },
  {
   "cell_type": "code",
   "execution_count": 3,
   "metadata": {},
   "outputs": [],
   "source": [
    "def order_protocol_value(df, given_info):\n",
    "   \n",
    "    order_protocol = given_info[(given_info.created_at_weekday == df.created_at_weekday) & (given_info.market_id == df.market_id)][\"order_protocol\"]\n",
    "    return order_protocol.iloc[0]\n",
    "    "
   ]
  },
  {
   "cell_type": "code",
   "execution_count": 4,
   "metadata": {},
   "outputs": [],
   "source": [
    "df = pd.read_csv(\"dataset.csv\")"
   ]
  },
  {
   "cell_type": "code",
   "execution_count": 5,
   "metadata": {},
   "outputs": [],
   "source": [
    "df.dropna(subset = [\"actual_delivery_time\"], inplace = True)\n",
    "df[\"created_at\"] = pd.to_datetime(df.created_at)\n",
    "df[\"actual_delivery_time\"] = pd.to_datetime(df.actual_delivery_time)\n",
    "df[\"created_at_month\"] = df.created_at.dt.month_name()\n",
    "df[\"created_at_weekday\"] = df.created_at.dt.day_name()\n",
    "df[\"created_at_hour\"] = df.created_at.dt.hour\n",
    "df[\"actual_delivery_month\"] = df.actual_delivery_time.dt.month_name()\n",
    "df[\"actual_deliveryt_weekday\"] = df.actual_delivery_time.dt.day_name()\n",
    "df[\"actual_delivery_hour\"] = df.actual_delivery_time.dt.hour\n",
    "df[\"delivery_time\"] = (df[\"actual_delivery_time\"] - df[\"created_at\"]).dt.total_seconds()/60"
   ]
  },
  {
   "cell_type": "code",
   "execution_count": 6,
   "metadata": {},
   "outputs": [
    {
     "name": "stdout",
     "output_type": "stream",
     "text": [
      "the shape of train data : \n",
      "   X_train = (157936, 20)\n",
      "   y_train = (157936,)\n",
      "----------------------------------------\n",
      "the shape of test data : \n",
      "   X_test = (39485, 20)\n",
      "   y_test = (39485,)\n",
      "------------------------------------------------------------------------------------------------------------------------\n"
     ]
    }
   ],
   "source": [
    "X = df.drop([\"delivery_time\"], axis = 1)\n",
    "y = df[\"delivery_time\"]\n",
    "\n",
    "X_train, X_test, y_train, y_test = train_test_split(X, y, test_size = 0.2, random_state = 11)\n",
    "\n",
    "print(f\"the shape of train data : \")\n",
    "print(f\"   X_train = {X_train.shape}\\n   y_train = {y_train.shape}\")\n",
    "print(\"--\" * 20)\n",
    "print(f\"the shape of test data : \")\n",
    "print(f\"   X_test = {X_test.shape}\\n   y_test = {y_test.shape}\")\n",
    "print(\"--\" * 60)"
   ]
  },
  {
   "cell_type": "code",
   "execution_count": 7,
   "metadata": {},
   "outputs": [],
   "source": [
    "most_market_id = X_train.market_id.value_counts().index[0]\n",
    "market_id_map = X_train.groupby('store_id')['market_id'].apply(lambda x: x.mode()[0] if not x.isnull().all() else most_market_id).reset_index()"
   ]
  },
  {
   "cell_type": "code",
   "execution_count": 8,
   "metadata": {},
   "outputs": [
    {
     "name": "stdout",
     "output_type": "stream",
     "text": [
      "shape at begining (X_train) = (157936, 20)\n",
      "shape after dropping market id NaN data = (157146, 20)\n",
      "shape after concat = (157936, 20)\n",
      "missing values in market id = 0\n",
      "----------------------------------------\n"
     ]
    }
   ],
   "source": [
    "print(f\"shape at begining (X_train) = {X_train.shape}\")\n",
    "\n",
    "market_nan = X_train[X_train.market_id.isna()].drop([\"market_id\"], axis = 1)\n",
    "X_train.drop(X_train[X_train.market_id.isna()].index, axis = 0, inplace =  True)\n",
    "print(f\"shape after dropping market id NaN data = {X_train.shape}\")\n",
    "\n",
    "market_filled = market_nan.merge(market_id_map, on = [\"store_id\"], how = \"left\")\n",
    "X_train = pd.concat([X_train, market_filled],axis = 0)\n",
    "print(f\"shape after concat = {X_train.shape}\")\n",
    "\n",
    "print(f\"missing values in market id = {X_train.market_id.isna().sum()}\")\n",
    "print(\"--\" * 20)"
   ]
  },
  {
   "cell_type": "code",
   "execution_count": 9,
   "metadata": {},
   "outputs": [
    {
     "name": "stdout",
     "output_type": "stream",
     "text": [
      "shape at begining (X_test) = (39485, 20)\n",
      "shape after dropping market id NaN data = (39288, 20)\n",
      "shape after concat = (39485, 20)\n",
      "missing values in market id = 1\n",
      "missing values in market id (after filling NaN with most frequent market) = 0\n",
      "------------------------------------------------------------------------------------------------------------------------\n"
     ]
    }
   ],
   "source": [
    "print(f\"shape at begining (X_test) = {X_test.shape}\")\n",
    "\n",
    "market_nan = X_test[X_test.market_id.isna()].drop([\"market_id\"], axis = 1)\n",
    "X_test.drop(X_test[X_test.market_id.isna()].index, axis = 0, inplace =  True)\n",
    "print(f\"shape after dropping market id NaN data = {X_test.shape}\")\n",
    "\n",
    "market_filled = market_nan.merge(market_id_map, on = [\"store_id\"], how = \"left\")\n",
    "X_test = pd.concat([X_test, market_filled],axis = 0)\n",
    "print(f\"shape after concat = {X_test.shape}\")\n",
    "\n",
    "print(f\"missing values in market id = {X_test.market_id.isna().sum()}\")\n",
    "X_test.market_id.fillna(most_market_id, inplace = True)\n",
    "print(f\"missing values in market id (after filling NaN with most frequent market) = {X_test.market_id.isna().sum()}\")\n",
    "print(\"--\" * 60)"
   ]
  },
  {
   "cell_type": "code",
   "execution_count": 10,
   "metadata": {},
   "outputs": [],
   "source": [
    "train = pd.concat([X_train.reset_index(drop = True), y_train.reset_index(drop = True)], axis = 1)\n",
    "delivery_partners_grps = train.groupby(by = [\"created_at_weekday\", \"created_at_hour\"])[[\"total_onshift_partners\", \"total_busy_partners\", \"total_outstanding_orders\"]].apply(\"mean\").round().reset_index()\n"
   ]
  },
  {
   "cell_type": "code",
   "execution_count": 11,
   "metadata": {},
   "outputs": [
    {
     "name": "stdout",
     "output_type": "stream",
     "text": [
      "missing values in X_train\n"
     ]
    },
    {
     "data": {
      "text/plain": [
       "total_onshift_partners      0\n",
       "total_busy_partners         0\n",
       "total_outstanding_orders    0\n",
       "dtype: int64"
      ]
     },
     "metadata": {},
     "output_type": "display_data"
    },
    {
     "name": "stdout",
     "output_type": "stream",
     "text": [
      "------------------------------------------------------------------------------------------------------------------------\n",
      "missing values in X_test\n"
     ]
    },
    {
     "data": {
      "text/plain": [
       "total_onshift_partners      0\n",
       "total_busy_partners         0\n",
       "total_outstanding_orders    0\n",
       "dtype: int64"
      ]
     },
     "metadata": {},
     "output_type": "display_data"
    },
    {
     "name": "stdout",
     "output_type": "stream",
     "text": [
      "------------------------------------------------------------------------------------------------------------------------\n"
     ]
    }
   ],
   "source": [
    "X_train.loc[X_train.total_onshift_partners.isna(), \"total_onshift_partners\"] = X_train.loc[X_train.total_onshift_partners.isna()].apply(delivery_partners, given_info = delivery_partners_grps, total_onshift_partners = True, axis = 1)\n",
    "X_train.loc[X_train.total_busy_partners.isna(), \"total_busy_partners\"] = X_train.loc[X_train.total_busy_partners.isna()].apply(delivery_partners, given_info = delivery_partners_grps, total_busy_partners = True, axis = 1)\n",
    "X_train.loc[X_train.total_outstanding_orders.isna(), \"total_outstanding_orders\"] = X_train.loc[X_train.total_outstanding_orders.isna()].apply(delivery_partners, given_info = delivery_partners_grps, total_outstanding_orders = True, axis = 1)\n",
    "print(f\"missing values in X_train\")\n",
    "display(X_train.loc[:,[\"total_onshift_partners\", \"total_busy_partners\", \"total_outstanding_orders\"]].isna().sum())\n",
    "print(\"--\" * 60)\n",
    "\n",
    "X_test.loc[X_test.total_onshift_partners.isna(), \"total_onshift_partners\"] = X_test.loc[X_test.total_onshift_partners.isna()].apply(delivery_partners, given_info = delivery_partners_grps, total_onshift_partners = True, axis = 1)\n",
    "X_test.loc[X_test.total_busy_partners.isna(), \"total_busy_partners\"] = X_test.loc[X_test.total_busy_partners.isna()].apply(delivery_partners, given_info = delivery_partners_grps, total_busy_partners = True, axis = 1)\n",
    "X_test.loc[X_test.total_outstanding_orders.isna(), \"total_outstanding_orders\"] = X_test.loc[X_test.total_outstanding_orders.isna()].apply(delivery_partners, given_info = delivery_partners_grps, total_outstanding_orders = True, axis = 1)\n",
    "print(f\"missing values in X_test\")\n",
    "display(X_test.loc[:,[\"total_onshift_partners\", \"total_busy_partners\", \"total_outstanding_orders\"]].isna().sum())\n",
    "print(\"--\" * 60)"
   ]
  },
  {
   "cell_type": "code",
   "execution_count": 12,
   "metadata": {},
   "outputs": [
    {
     "name": "stdout",
     "output_type": "stream",
     "text": [
      "remaining missing valued features (train_data) = ['store_primary_category', 'order_protocol']\n",
      "----------------------------------------------------------------------------------------------------\n",
      "remaining missing valued features (test_data) = ['store_primary_category', 'order_protocol']\n",
      "------------------------------------------------------------------------------------------------------------------------\n"
     ]
    }
   ],
   "source": [
    "print(f\"remaining missing valued features (train_data) = {X_train.columns[X_train.isna().sum() > 0].tolist()}\")\n",
    "print(\"--\" * 50)\n",
    "print(f\"remaining missing valued features (test_data) = {X_test.columns[X_test.isna().sum() > 0].tolist()}\")\n",
    "print(\"--\" * 60)"
   ]
  },
  {
   "cell_type": "code",
   "execution_count": 13,
   "metadata": {},
   "outputs": [],
   "source": [
    "order_protocol_grps = df.groupby(by = [\"created_at_weekday\", \"market_id\"])[\"order_protocol\"].apply(lambda x : x.mode()[0]).reset_index()"
   ]
  },
  {
   "cell_type": "code",
   "execution_count": 14,
   "metadata": {},
   "outputs": [],
   "source": [
    "X_train.loc[X_train.order_protocol.isna(), \"order_protocol\"] = X_train.loc[X_train.order_protocol.isna()].apply(order_protocol_value, given_info = order_protocol_grps, axis = 1)\n",
    "X_test.loc[X_test.order_protocol.isna(), \"order_protocol\"] = X_test.loc[X_test.order_protocol.isna()].apply(order_protocol_value, given_info = order_protocol_grps, axis = 1)"
   ]
  },
  {
   "cell_type": "code",
   "execution_count": 15,
   "metadata": {},
   "outputs": [
    {
     "name": "stdout",
     "output_type": "stream",
     "text": [
      "remaining missing valued features (train_data) = ['store_primary_category']\n",
      "----------------------------------------------------------------------------------------------------\n",
      "remaining missing valued features (test_data) = ['store_primary_category']\n",
      "------------------------------------------------------------------------------------------------------------------------\n"
     ]
    }
   ],
   "source": [
    "print(f\"remaining missing valued features (train_data) = {X_train.columns[X_train.isna().sum() > 0].tolist()}\")\n",
    "print(\"--\" * 50)\n",
    "print(f\"remaining missing valued features (test_data) = {X_test.columns[X_test.isna().sum() > 0].tolist()}\")\n",
    "print(\"--\" * 60)"
   ]
  },
  {
   "cell_type": "code",
   "execution_count": null,
   "metadata": {},
   "outputs": [],
   "source": []
  }
 ],
 "metadata": {
  "kernelspec": {
   "display_name": "base",
   "language": "python",
   "name": "python3"
  },
  "language_info": {
   "codemirror_mode": {
    "name": "ipython",
    "version": 3
   },
   "file_extension": ".py",
   "mimetype": "text/x-python",
   "name": "python",
   "nbconvert_exporter": "python",
   "pygments_lexer": "ipython3",
   "version": "3.11.0"
  }
 },
 "nbformat": 4,
 "nbformat_minor": 2
}
